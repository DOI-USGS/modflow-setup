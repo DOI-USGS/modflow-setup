{
 "cells": [
  {
   "cell_type": "markdown",
   "metadata": {},
   "source": [
    "# Pleasant Lake Example\n",
    "This example is a simplified version of the Pleasant Lake model published by Fienen et al (2021). The goal of the Pleasant Lake model, part of the Central Sands Lake Study, was to address connections between groundwater abstraction and ecological function of a lake in central Wisconsin, USA (WDNR 2021; Figure 1). This required modeling at multiple scales. Fine discretization was needed near the lake for accurate simulation of water levels and groundwater-lake flux. A large model domain was also needed, to simulate farfield water-use activity (chiefly irrigated agriculture) in order to delineate a limit of connection, as well as to incorporate distant hydrologic boundaries. Adopting a fine enough discretization for the lake detail throughout the farfield would have resulted in a model with more cells than could be practically managed. To mitigate this, three models were combined: a large regional model built with MODFLOW-NWT (Niswonger et al. 2011), an intermediate MODFLOW 6 model inset within the regional model to simulate the irrigated agriculture area, and a refined MODFLOW 6 inset model (nested within the intermediate model) to simulate the lake. Regional groundwater flow and the effects of distant boundaries were simulated with the MODFLOW-NWT model, which was coupled sequentially (one-way) to the MODFLOW 6 models through time-varying specified head boundaries along the intermediate MODFLOW 6 model perimeter. The two MODFLOW 6 models were coupled dynamically (both ways) within the groundwater flow solution, allowing for feedback between the models. Estimates of groundwater recharge for the MODFLOW models were provided by a soil water balance code (SWB; Westenbroek et al 2018) simulation that could consider alternative assumptions of climate and land use. Net infiltration estimates from the SWB model were conveyed to the Recharge Packages in the MODFLOW models using the NetCDF functionality in Modflow-setup. \n",
    "\n",
    "<img src=\"https://github.com/aleaf/modflow-setup/blob/develop/docs/source/_static/fig1_pleasant_lake_model.jpg?raw=true\" align=\"center\">\n",
    "\n",
    "**Figure 1**: The full Pleasant Lake model domain with location map, showing the relationship between the regional, intermediate and LGR inset models, as well as the irrigation wells considered.\n",
    "\n",
    "\n",
    "\n",
    "\n",
    "\n",
    "Most details of the Fienen et al (2021) model are included here, but to reduce file sizes and execution time, a smaller Modflow-6 simulation domain is used. The smaller domain is for illustration purposes only, and is not intended to be adequate for representing pumping impacts or providing a sufficient distance to the perimeter boundaries.\n",
    "\n",
    "\n",
    "* **[View the configuration file(s)](https://doi-usgs.github.io/modflow-setup/latest/config-file-gallery.html#pleasant-lake-test-case)** \n",
    "* **[Run this example](https://mybinder.org/v2/gh/usgs/modflow-setup/develop?urlpath=lab/tree/examples)  on  [Binder](https://mybinder.org/)**\n",
    "\n",
    "#### Model details\n",
    "* MODFLOW-6 simulation with a dynamically linked parent model and local grid refinement (LGR) inset model\n",
    "* LGR parent model is itself a Telescopic Mesh Refinment (TMR) inset from a regional MODFLOW-NWT model\n",
    "* Layer 1 in the regional model is subdivided evenly into two layers in the LGR models (``botm: from_parent: 0: -0.5``). The other layers are mapped explicitly between the TMR parent and LGR models.\n",
    "* starting heads for the LGR parent models were resampled from the regional model binary output\n",
    "* rch, npf, sto, and wel input copied from the regional model\n",
    "* SFR package constructed from an NHDPlus v2 dataset (path to NHDPlus files in the same structure as the `downloads from the NHDPlus website`_)\n",
    "* head observations from csv files with different column names\n",
    "* LGR inset extent based on a buffer distance around a feature of interest\n",
    "* LGR inset dis, ic, npf, sto and rch packages copied from LGR parent\n",
    "* Lake package created from polygon features, bathymetry raster, stage-area-volume file and climate data from `PRISM`_.\n",
    "* Lake package observations are set up automatically (output file for each lake)"
   ]
  },
  {
   "cell_type": "code",
   "execution_count": 1,
   "metadata": {
    "execution": {
     "iopub.execute_input": "2025-03-18T16:23:27.930024Z",
     "iopub.status.busy": "2025-03-18T16:23:27.929657Z",
     "iopub.status.idle": "2025-03-18T16:23:29.243368Z",
     "shell.execute_reply": "2025-03-18T16:23:29.242915Z"
    }
   },
   "outputs": [],
   "source": [
    "%%capture\n",
    "import os\n",
    "import numpy as np\n",
    "import pandas as pd\n",
    "from scipy.interpolate import griddata\n",
    "import matplotlib.pyplot as plt\n",
    "from matplotlib import patheffects\n",
    "import flopy\n",
    "import flopy.utils.binaryfile as bf\n",
    "from mfsetup import MF6model\n",
    "from mfsetup.discretization import cellids_to_kij\n",
    "from gisutils import df2shp\n",
    "import mfexport\n",
    "from mfexport.utils import get_water_table\n",
    "\n",
    "wd = os.getcwd()"
   ]
  },
  {
   "cell_type": "markdown",
   "metadata": {},
   "source": [
    "### Just make a model grid\n",
    "Oftentimes at the start of a modeling project, we want to quickly test different grid resolutions and extents before attempting to build the model. We can do this with Modflow-setup by creating a model instance and then running the ``setup_grid()`` method. A model grid instance is created from the ``setup_grid:`` block in the configuration file. \n",
    "\n",
    "Note: ``%%capture`` in the block below is just to suppress printing of ``stdout`` for display of this notebook in the modflow-setup documentation."
   ]
  },
  {
   "cell_type": "code",
   "execution_count": 2,
   "metadata": {
    "execution": {
     "iopub.execute_input": "2025-03-18T16:23:29.245591Z",
     "iopub.status.busy": "2025-03-18T16:23:29.245024Z",
     "iopub.status.idle": "2025-03-18T16:23:29.887291Z",
     "shell.execute_reply": "2025-03-18T16:23:29.886760Z"
    }
   },
   "outputs": [],
   "source": [
    "%%capture\n",
    "m = MF6model(cfg='pleasant_lgr_parent.yml')\n",
    "m.setup_grid()"
   ]
  },
  {
   "cell_type": "markdown",
   "metadata": {},
   "source": [
    "Since this model has local-grid refinement, it actually consists of two models: a parent built from ``pleasant_lgr_parent.yml``, and an inset built from ``pleasant_lgr_inset.yml``, which is referenced within ``pleasant_lgr_parent.yml``. The two sub-models are connected and solved simulataneously within the same MODFLOW 6 simulation. A model grid is made for each sub-model. The model grids are instances of the ``MFsetupGrid`` grid class, a subclass of the Flopy ``StructuredGrid`` class with some added functionality."
   ]
  },
  {
   "cell_type": "code",
   "execution_count": 3,
   "metadata": {
    "execution": {
     "iopub.execute_input": "2025-03-18T16:23:29.889470Z",
     "iopub.status.busy": "2025-03-18T16:23:29.889055Z",
     "iopub.status.idle": "2025-03-18T16:23:29.895018Z",
     "shell.execute_reply": "2025-03-18T16:23:29.894518Z"
    }
   },
   "outputs": [
    {
     "data": {
      "text/plain": [
       "5 layer(s), 25 row(s), 25 column(s)\n",
       "delr: [200.00...200.00] undefined\n",
       "delc: [200.00...200.00] undefined\n",
       "CRS: EPSG:3070\n",
       "length units: meters\n",
       "xll: 553400.0; yll: 387800.0; rotation: 0.0\n",
       "Bounds: (np.float64(553400.0), np.float64(558400.0), np.float64(387800.0), np.float64(392800.0))"
      ]
     },
     "execution_count": 3,
     "metadata": {},
     "output_type": "execute_result"
    }
   ],
   "source": [
    "m.modelgrid"
   ]
  },
  {
   "cell_type": "code",
   "execution_count": 4,
   "metadata": {
    "execution": {
     "iopub.execute_input": "2025-03-18T16:23:29.922989Z",
     "iopub.status.busy": "2025-03-18T16:23:29.922563Z",
     "iopub.status.idle": "2025-03-18T16:23:29.927270Z",
     "shell.execute_reply": "2025-03-18T16:23:29.926756Z"
    }
   },
   "outputs": [
    {
     "data": {
      "text/plain": [
       "75 row(s), 85 column(s)\n",
       "delr: [40.00...40.00] undefined\n",
       "delc: [40.00...40.00] undefined\n",
       "CRS: EPSG:3070\n",
       "length units: meters\n",
       "xll: 554200.0; yll: 388800.0; rotation: 0\n",
       "Bounds: (np.float64(554200.0), np.float64(557600.0), np.float64(388800.0), np.float64(391800.0))"
      ]
     },
     "execution_count": 4,
     "metadata": {},
     "output_type": "execute_result"
    }
   ],
   "source": [
    "m.inset['plsnt_lgr_inset'].modelgrid"
   ]
  },
  {
   "cell_type": "markdown",
   "metadata": {},
   "source": [
    "#### Working directory gottcha\n",
    "Currently, to facilitate working with external files in Flopy, **Modflow-setup changes the working directory to the model workspace**. In the context of a flat script that only builds the model, this is fine, but in a notebook or other workflows, this can potentially cause confusion."
   ]
  },
  {
   "cell_type": "code",
   "execution_count": 5,
   "metadata": {
    "execution": {
     "iopub.execute_input": "2025-03-18T16:23:29.929026Z",
     "iopub.status.busy": "2025-03-18T16:23:29.928737Z",
     "iopub.status.idle": "2025-03-18T16:23:29.931927Z",
     "shell.execute_reply": "2025-03-18T16:23:29.931542Z"
    }
   },
   "outputs": [
    {
     "data": {
      "text/plain": [
       "'/home/runner/work/modflow-setup/modflow-setup/examples/pleasant_lgr'"
      ]
     },
     "execution_count": 5,
     "metadata": {},
     "output_type": "execute_result"
    }
   ],
   "source": [
    "os.getcwd()"
   ]
  },
  {
   "cell_type": "markdown",
   "metadata": {},
   "source": [
    "### Write shapefiles of the inset and parent modelgrids\n",
    "A shapefile of the grid bounding box is written by default on creation of the model grid, to the location specified by ``output_files: grid_file:`` in the ``setup_grid:`` block (default is ``<model workspace>/postproc/shps/``). A shapefile of the grid cells as polygon features can be written as below:"
   ]
  },
  {
   "cell_type": "code",
   "execution_count": 6,
   "metadata": {
    "execution": {
     "iopub.execute_input": "2025-03-18T16:23:29.933400Z",
     "iopub.status.busy": "2025-03-18T16:23:29.933240Z",
     "iopub.status.idle": "2025-03-18T16:23:30.782127Z",
     "shell.execute_reply": "2025-03-18T16:23:30.781610Z"
    }
   },
   "outputs": [
    {
     "name": "stdout",
     "output_type": "stream",
     "text": [
      "creating shapely Polygons of grid cells...\n",
      "finished in 0.09s\n",
      "\n",
      "writing postproc/shps/plsnt_lgr_parent_grid.shp... Done\n",
      "creating shapely Polygons of grid cells...\n"
     ]
    },
    {
     "name": "stdout",
     "output_type": "stream",
     "text": [
      "finished in 0.09s\n",
      "\n"
     ]
    },
    {
     "name": "stdout",
     "output_type": "stream",
     "text": [
      "writing postproc/shps/plsnt_lgr_inset_grid.shp... Done\n"
     ]
    }
   ],
   "source": [
    "m.modelgrid.write_shapefile('postproc/shps/plsnt_lgr_parent_grid.shp')\n",
    "m.inset['plsnt_lgr_inset'].modelgrid.write_shapefile('postproc/shps/plsnt_lgr_inset_grid.shp')"
   ]
  },
  {
   "cell_type": "markdown",
   "metadata": {},
   "source": [
    "##### Change the working directory back to the notebook location"
   ]
  },
  {
   "cell_type": "code",
   "execution_count": 7,
   "metadata": {
    "execution": {
     "iopub.execute_input": "2025-03-18T16:23:30.783816Z",
     "iopub.status.busy": "2025-03-18T16:23:30.783648Z",
     "iopub.status.idle": "2025-03-18T16:23:30.786437Z",
     "shell.execute_reply": "2025-03-18T16:23:30.785962Z"
    }
   },
   "outputs": [],
   "source": [
    "os.chdir(wd)"
   ]
  },
  {
   "cell_type": "markdown",
   "metadata": {},
   "source": [
    "### Build the whole model"
   ]
  },
  {
   "cell_type": "code",
   "execution_count": 8,
   "metadata": {
    "execution": {
     "iopub.execute_input": "2025-03-18T16:23:30.787943Z",
     "iopub.status.busy": "2025-03-18T16:23:30.787797Z",
     "iopub.status.idle": "2025-03-18T16:23:39.760578Z",
     "shell.execute_reply": "2025-03-18T16:23:39.760028Z"
    }
   },
   "outputs": [],
   "source": [
    "%%capture\n",
    "m = MF6model.setup_from_yaml('pleasant_lgr_parent.yml')"
   ]
  },
  {
   "cell_type": "markdown",
   "metadata": {},
   "source": [
    "a ``MF6model`` instance (subclass of ``flopy.mf6.ModflowGwf``) is returned"
   ]
  },
  {
   "cell_type": "code",
   "execution_count": 9,
   "metadata": {
    "execution": {
     "iopub.execute_input": "2025-03-18T16:23:39.762637Z",
     "iopub.status.busy": "2025-03-18T16:23:39.762454Z",
     "iopub.status.idle": "2025-03-18T16:23:39.769671Z",
     "shell.execute_reply": "2025-03-18T16:23:39.769074Z"
    }
   },
   "outputs": [
    {
     "data": {
      "text/plain": [
       "Pleasant Lake test case version 0.1.post76+g769cd59\n",
       "Parent model: /home/runner/work/modflow-setup/modflow-setup/examples/data/pleasant/pleasant\n",
       "5 layer(s), 25 row(s), 25 column(s)\n",
       "delr: [200.00...200.00] undefined\n",
       "delc: [200.00...200.00] undefined\n",
       "CRS: EPSG:3070\n",
       "length units: meters\n",
       "xll: 553400.0; yll: 387800.0; rotation: 0.0\n",
       "Bounds: (np.float64(553400.0), np.float64(558400.0), np.float64(387800.0), np.float64(392800.0))\n",
       "Packages: dis ic npf sto rcha_0 oc chd_0 obs_0 sfr_0 wel_0 obs_1 obs_2\n",
       "13 period(s):\n",
       " per start_datetime end_datetime  perlen  steady  nstp\n",
       "   0     2012-01-01   2012-01-01     1.0    True     1\n",
       "   1     2012-01-01   2012-02-01    31.0   False     1\n",
       "   2     2012-02-01   2012-03-01    29.0   False     1\n",
       "   ...\n",
       "  12     2012-12-01   2013-01-01    31.0   False     1"
      ]
     },
     "execution_count": 9,
     "metadata": {},
     "output_type": "execute_result"
    }
   ],
   "source": [
    "m"
   ]
  },
  {
   "cell_type": "markdown",
   "metadata": {},
   "source": [
    "information from the configuration file is stored in an attached ``cfg`` dictionary"
   ]
  },
  {
   "cell_type": "code",
   "execution_count": 10,
   "metadata": {
    "execution": {
     "iopub.execute_input": "2025-03-18T16:23:39.771522Z",
     "iopub.status.busy": "2025-03-18T16:23:39.771150Z",
     "iopub.status.idle": "2025-03-18T16:23:39.774598Z",
     "shell.execute_reply": "2025-03-18T16:23:39.774188Z"
    }
   },
   "outputs": [
    {
     "data": {
      "text/plain": [
       "dict_keys(['metadata', 'simulation', 'model', 'parent', 'postprocessing', 'setup_grid', 'dis', 'tdis', 'ic', 'npf', 'sto', 'rch', 'sfr', 'high_k_lakes', 'lak', 'mvr', 'chd', 'drn', 'ghb', 'riv', 'wel', 'oc', 'obs', 'ims', 'mfsetup_options', 'filename', 'maw', 'external_files', 'intermediate_data', 'grid'])"
      ]
     },
     "execution_count": 10,
     "metadata": {},
     "output_type": "execute_result"
    }
   ],
   "source": [
    "m.cfg.keys()"
   ]
  },
  {
   "cell_type": "markdown",
   "metadata": {},
   "source": [
    "the ``cfg`` dictionary contains both information from the configuration file, and MODFLOW input (such as external text file arrays) that was developed from the original source data. Internally in Modflow-setup, MODFLOW input in ``cfg`` is fed to the various Flopy object constructors."
   ]
  },
  {
   "cell_type": "code",
   "execution_count": 11,
   "metadata": {
    "execution": {
     "iopub.execute_input": "2025-03-18T16:23:39.776233Z",
     "iopub.status.busy": "2025-03-18T16:23:39.775917Z",
     "iopub.status.idle": "2025-03-18T16:23:39.779946Z",
     "shell.execute_reply": "2025-03-18T16:23:39.779549Z"
    }
   },
   "outputs": [
    {
     "data": {
      "text/plain": [
       "defaultdict(dict,\n",
       "            {'remake_top': True,\n",
       "             'options': {'length_units': 'meters'},\n",
       "             'dimensions': {'nlay': 5, 'nrow': 25, 'ncol': 25},\n",
       "             'griddata': {'top': [{'filename': './external/plsnt_lgr_parent_top.dat'}],\n",
       "              'botm': [{'filename': './external/plsnt_lgr_parent_botm_000.dat'},\n",
       "               {'filename': './external/plsnt_lgr_parent_botm_001.dat'},\n",
       "               {'filename': './external/plsnt_lgr_parent_botm_002.dat'},\n",
       "               {'filename': './external/plsnt_lgr_parent_botm_003.dat'},\n",
       "               {'filename': './external/plsnt_lgr_parent_botm_004.dat'}],\n",
       "              'idomain': [{'filename': './external/plsnt_lgr_parent_idomain_000.dat'},\n",
       "               {'filename': './external/plsnt_lgr_parent_idomain_001.dat'},\n",
       "               {'filename': './external/plsnt_lgr_parent_idomain_002.dat'},\n",
       "               {'filename': './external/plsnt_lgr_parent_idomain_003.dat'},\n",
       "               {'filename': './external/plsnt_lgr_parent_idomain_004.dat'}]},\n",
       "             'top_filename_fmt': 'top.dat',\n",
       "             'botm_filename_fmt': 'botm_{:03d}.dat',\n",
       "             'idomain_filename_fmt': 'idomain_{:03d}.dat',\n",
       "             'minimum_layer_thickness': 1,\n",
       "             'drop_thin_cells': True,\n",
       "             'source_data': {'top': {'filename': '/home/runner/work/modflow-setup/modflow-setup/examples/data/pleasant/source_data/rasters/dem40m.tif',\n",
       "               'elevation_units': 'meters'},\n",
       "              'botm': {'filenames': {1: '/home/runner/work/modflow-setup/modflow-setup/examples/data/pleasant/source_data/rasters/botm0.tif',\n",
       "                2: '/home/runner/work/modflow-setup/modflow-setup/examples/data/pleasant/source_data/rasters/botm1.tif',\n",
       "                3: '/home/runner/work/modflow-setup/modflow-setup/examples/data/pleasant/source_data/rasters/botm2.tif',\n",
       "                4: '/home/runner/work/modflow-setup/modflow-setup/examples/data/pleasant/source_data/rasters/botm3.tif'}}},\n",
       "             'nlay': 4})"
      ]
     },
     "execution_count": 11,
     "metadata": {},
     "output_type": "execute_result"
    }
   ],
   "source": [
    "m.cfg['dis']"
   ]
  },
  {
   "cell_type": "markdown",
   "metadata": {},
   "source": [
    "The inset LGR model is attached to the parent within an ``inset`` dictionary"
   ]
  },
  {
   "cell_type": "code",
   "execution_count": 12,
   "metadata": {
    "execution": {
     "iopub.execute_input": "2025-03-18T16:23:39.781355Z",
     "iopub.status.busy": "2025-03-18T16:23:39.781212Z",
     "iopub.status.idle": "2025-03-18T16:23:39.787804Z",
     "shell.execute_reply": "2025-03-18T16:23:39.787336Z"
    }
   },
   "outputs": [
    {
     "data": {
      "text/plain": [
       "{'plsnt_lgr_inset': plsnt_lgr_inset model version 0.6.0.post76+g769cd59\n",
       " Parent model: ./plsnt_lgr_parent\n",
       " 5 layer(s), 75 row(s), 85 column(s)\n",
       " delr: [40.00...40.00] undefined\n",
       " delc: [40.00...40.00] undefined\n",
       " CRS: EPSG:3070\n",
       " length units: meters\n",
       " xll: 554200.0; yll: 388800.0; rotation: 0\n",
       " Bounds: (np.float64(554200.0), np.float64(557600.0), np.float64(388800.0), np.float64(391800.0))\n",
       " Packages: dis ic npf sto rcha_0 oc sfr_0 lak_0 obs_0 obs_1\n",
       " 13 period(s):\n",
       "  per start_datetime end_datetime  perlen  steady  nstp\n",
       "    0     2012-01-01   2012-01-01     1.0    True     1\n",
       "    1     2012-01-01   2012-02-01    31.0   False     1\n",
       "    2     2012-02-01   2012-03-01    29.0   False     1\n",
       "    ...\n",
       "   12     2012-12-01   2013-01-01    31.0   False     1}"
      ]
     },
     "execution_count": 12,
     "metadata": {},
     "output_type": "execute_result"
    }
   ],
   "source": [
    "m.inset"
   ]
  },
  {
   "cell_type": "markdown",
   "metadata": {},
   "source": [
    "#### Plot the inset and parent model grids with Lake Package connections by layer"
   ]
  },
  {
   "cell_type": "code",
   "execution_count": 13,
   "metadata": {
    "execution": {
     "iopub.execute_input": "2025-03-18T16:23:39.789267Z",
     "iopub.status.busy": "2025-03-18T16:23:39.789112Z",
     "iopub.status.idle": "2025-03-18T16:23:39.963275Z",
     "shell.execute_reply": "2025-03-18T16:23:39.962763Z"
    }
   },
   "outputs": [
    {
     "data": {
      "text/plain": [
       "<matplotlib.colorbar.Colorbar at 0x7fb419469700>"
      ]
     },
     "execution_count": 13,
     "metadata": {},
     "output_type": "execute_result"
    },
    {
     "data": {
      "image/png": "[encoded data removed]",
      "text/plain": [
       "<Figure size 1000x1000 with 2 Axes>"
      ]
     },
     "metadata": {},
     "output_type": "display_data"
    }
   ],
   "source": [
    "inset = m.inset['plsnt_lgr_inset']\n",
    "\n",
    "l, r, b, t = m.modelgrid.extent\n",
    "layer = 0\n",
    "\n",
    "fig, ax = plt.subplots(figsize=(10, 10))\n",
    "parent_mv = flopy.plot.PlotMapView(model=m, ax=ax, layer=layer)\n",
    "inset_mv = flopy.plot.PlotMapView(model=inset, ax=ax, layer=layer)\n",
    "\n",
    "vconn = inset.lak.connectiondata.array[inset.lak.connectiondata.array['claktype'] == 'vertical']\n",
    "k, i, j = cellids_to_kij(vconn['cellid'])\n",
    "lakeconnections = np.zeros((inset.nrow, inset.ncol))\n",
    "lakeconnections[i, j] = np.array(k+1)\n",
    "lakeconnections = np.ma.masked_array(lakeconnections, mask=lakeconnections == 0)\n",
    "qmi = inset_mv.plot_array(lakeconnections)\n",
    "\n",
    "#inset_mv.plot_bc('LAK', color='navy')\n",
    "#parent_mv.plot_bc('WEL_0', color='red')\n",
    "\n",
    "lcp = parent_mv.plot_grid(lw=0.5, ax=ax)\n",
    "lci = inset_mv.plot_grid(lw=0.5)\n",
    "ax.set_ylim(b, t)\n",
    "ax.set_xlim(l, r)\n",
    "ax.set_aspect(1)\n",
    "plt.colorbar(qmi)"
   ]
  },
  {
   "cell_type": "markdown",
   "metadata": {},
   "source": [
    "#### Make a cross section of the grid"
   ]
  },
  {
   "cell_type": "code",
   "execution_count": 14,
   "metadata": {
    "execution": {
     "iopub.execute_input": "2025-03-18T16:23:39.964948Z",
     "iopub.status.busy": "2025-03-18T16:23:39.964770Z",
     "iopub.status.idle": "2025-03-18T16:23:40.250667Z",
     "shell.execute_reply": "2025-03-18T16:23:40.250147Z"
    }
   },
   "outputs": [
    {
     "data": {
      "image/png": "[encoded data removed]",
      "text/plain": [
       "<Figure size 1400x500 with 1 Axes>"
      ]
     },
     "metadata": {},
     "output_type": "display_data"
    }
   ],
   "source": [
    "fig, ax = plt.subplots(figsize=(14, 5))\n",
    "xs_line = [(553000, 390200), (558000, 390200)]\n",
    "xs = flopy.plot.PlotCrossSection(model=m,\n",
    "                                line={\"line\": xs_line}, ax=ax,\n",
    "                                geographic_coords=True)\n",
    "lc = xs.plot_grid(zorder=4)\n",
    "xs2 = flopy.plot.PlotCrossSection(model=inset,\n",
    "                                line={\"line\": xs_line}, ax=ax,\n",
    "                                geographic_coords=True)\n",
    "lc = xs2.plot_grid(zorder=4)\n",
    "ax.set_ylim(190, 400)\n",
    "plt.savefig('../../docs/source/_static/pleasant_lgr_xsection.png', bbox_inches='tight')"
   ]
  },
  {
   "cell_type": "markdown",
   "metadata": {},
   "source": [
    "### write the MODFLOW input files\n",
    "(just like you would for a Flopy model)"
   ]
  },
  {
   "cell_type": "code",
   "execution_count": 15,
   "metadata": {
    "execution": {
     "iopub.execute_input": "2025-03-18T16:23:40.252321Z",
     "iopub.status.busy": "2025-03-18T16:23:40.252151Z",
     "iopub.status.idle": "2025-03-18T16:23:40.921362Z",
     "shell.execute_reply": "2025-03-18T16:23:40.920871Z"
    }
   },
   "outputs": [
    {
     "name": "stdout",
     "output_type": "stream",
     "text": [
      "writing simulation...\n",
      "  writing simulation name file...\n",
      "  writing simulation tdis package...\n",
      "  writing solution package ims_-1...\n",
      "  writing package pleasant_lgr.gwfgwf...\n",
      "  writing package pleasant_lgr.mvr...\n",
      "  writing model plsnt_lgr_parent...\n",
      "    writing model name file...\n",
      "    writing package dis...\n",
      "    writing package ic...\n",
      "    writing package npf...\n",
      "    writing package sto...\n",
      "    writing package rcha_0...\n",
      "    writing package oc...\n",
      "    writing package chd_0...\n",
      "INFORMATION: maxbound in ('gwf6', 'chd', 'dimensions') changed to 269 based on size of stress_period_data\n",
      "    writing package obs_0...\n",
      "    writing package sfr_0...\n",
      "    writing package wel_0...\n"
     ]
    },
    {
     "name": "stdout",
     "output_type": "stream",
     "text": [
      "INFORMATION: maxbound in ('gwf6', 'wel', 'dimensions') changed to 2 based on size of stress_period_data\n",
      "    writing package obs_1...\n",
      "    writing package obs_2...\n",
      "  writing model plsnt_lgr_inset...\n",
      "    writing model name file...\n",
      "    writing package dis...\n",
      "    writing package ic...\n",
      "    writing package npf...\n",
      "    writing package sto...\n",
      "    writing package rcha_0...\n",
      "    writing package oc...\n",
      "    writing package sfr_0...\n",
      "    writing package lak_0...\n",
      "    writing package obs_0...\n",
      "    writing package obs_1...\n",
      "SFRmaker v. 0.11.3.post39+g85c5b4f\n",
      "\n",
      "Running Flopy v. 3.10.0.dev2 diagnostics...\n",
      "passed.\n",
      "\n",
      "Checking for continuity in segment and reach numbering...\n",
      "passed.\n",
      "\n",
      "Checking for increasing segment numbers in downstream direction...\n",
      "passed.\n",
      "\n",
      "Checking for circular routing...\n",
      "passed.\n",
      "\n",
      "Checking reach connections for proximity...\n",
      "2 segments with non-adjacent reaches found.\n",
      "At segments:\n",
      "1 2\n",
      "\n",
      "2 segments with non-adjacent reaches found.\n",
      "At segments:\n",
      "1 2\n",
      "\n",
      "\n",
      "Checking for model cells with multiple non-zero SFR conductances...\n",
      "passed.\n",
      "\n",
      "Checking for streambed tops of less than -10...\n",
      "passed.\n",
      "\n",
      "Checking for streambed tops of greater than 15000...\n",
      "passed.\n",
      "\n",
      "Checking segment_data for downstream rises in streambed elevation...\n",
      "Segment elevup and elevdn not specified for nstrm=-16 and isfropt=1\n",
      "passed.\n",
      "\n",
      "Checking reach_data for downstream rises in streambed elevation...\n",
      "7 reaches encountered with strtop < strtop of downstream reach.\n",
      "Elevation rises:\n",
      "k i j iseg ireach strtop strtopdn d_strtop reachID diff\n",
      "4 20 15 2 1 290.66015625 292.6883850097656 2.028228759765625 5 -2.028228759765625\n",
      "4 21 15 2 2 290.66015625 292.11285400390625 1.45269775390625 6 -1.45269775390625\n",
      "2 24 20 2 10 288.81939697265625 290.1935119628906 1.374114990234375 14 -1.374114990234375\n",
      "2 24 19 2 9 289.3415832519531 290.66015625 1.318572998046875 13 -1.318572998046875\n",
      "2 24 18 2 8 289.4702453613281 290.66015625 1.189910888671875 12 -1.189910888671875\n",
      "1 24 21 2 11 288.60980224609375 289.4702453613281 0.860443115234375 15 -0.860443115234375\n",
      "4 23 18 2 7 290.1935119628906 290.66015625 0.466644287109375 11 -0.466644287109375\n",
      "\n",
      "\n",
      "Checking reach_data for inconsistencies between streambed elevations and the model grid...\n",
      "passed.\n",
      "\n",
      "Checking segment_data for inconsistencies between segment end elevations and the model grid...\n",
      "Segment elevup and elevdn not specified for nstrm=-16 and isfropt=1\n",
      "passed.\n",
      "\n",
      "Checking for streambed slopes of less than 0.0001...\n",
      "passed.\n",
      "\n",
      "Checking for streambed slopes of greater than 1.0...\n",
      "passed.\n",
      "\n",
      "wrote plsnt_lgr_parent_SFR.chk\n",
      "wrote plsnt_lgr_parent.sfr.obs\n",
      "converting reach and segment data to package data...\n",
      "wrote /home/runner/work/modflow-setup/modflow-setup/examples/pleasant_lgr/external/plsnt_lgr_parent_packagedata.dat\n",
      "wrote /home/runner/work/modflow-setup/modflow-setup/examples/pleasant_lgr/plsnt_lgr_parent.sfr\n",
      "SFRmaker v. 0.11.3.post39+g85c5b4f\n",
      "\n",
      "Running Flopy v. 3.10.0.dev2 diagnostics...\n",
      "passed.\n",
      "\n",
      "Checking for continuity in segment and reach numbering...\n",
      "passed.\n",
      "\n",
      "Checking for increasing segment numbers in downstream direction...\n",
      "passed.\n",
      "\n",
      "Checking for circular routing...\n",
      "passed.\n",
      "\n",
      "Checking reach connections for proximity...\n",
      "0 segments with non-adjacent reaches found.\n",
      "At segments:\n",
      "\n",
      "\n",
      "0 segments with non-adjacent reaches found.\n",
      "At segments:\n",
      "\n",
      "\n",
      "\n",
      "Checking for model cells with multiple non-zero SFR conductances...\n",
      "1 model cells with multiple non-zero SFR conductances found.\n",
      "This may lead to circular routing between collocated reaches.\n",
      "Nodes with overlapping conductances:\n",
      "k\ti\tj\tiseg\tireach\trchlen\tstrthick\tstrhc1\n",
      "0\t27\t71\t1\t12\t13.225701332092285\t1.0\t1.0\n",
      "0\t27\t71\t1\t13\t26.684703826904297\t1.0\t1.0\n",
      "\n",
      "Checking for streambed tops of less than -10...\n",
      "isfropt setting of 1,2 or 3 requires strtop information!\n",
      "\n",
      "\n",
      "Checking for streambed tops of greater than 15000...\n",
      "isfropt setting of 1,2 or 3 requires strtop information!\n",
      "\n",
      "\n",
      "Checking segment_data for downstream rises in streambed elevation...\n",
      "Segment elevup and elevdn not specified for nstrm=-41 and isfropt=1\n",
      "passed.\n",
      "\n",
      "Checking reach_data for downstream rises in streambed elevation...\n",
      "passed.\n",
      "\n",
      "Checking reach_data for inconsistencies between streambed elevations and the model grid...\n",
      "passed.\n",
      "\n",
      "Checking segment_data for inconsistencies between segment end elevations and the model grid...\n",
      "Segment elevup and elevdn not specified for nstrm=-41 and isfropt=1\n",
      "passed.\n",
      "\n",
      "Checking for streambed slopes of less than 0.0001...\n",
      "passed.\n",
      "\n",
      "Checking for streambed slopes of greater than 1.0...\n",
      "passed.\n",
      "\n",
      "wrote plsnt_lgr_inset_SFR.chk\n",
      "converting reach and segment data to package data...\n",
      "wrote /home/runner/work/modflow-setup/modflow-setup/examples/pleasant_lgr/external/plsnt_lgr_inset_packagedata.dat\n",
      "wrote /home/runner/work/modflow-setup/modflow-setup/examples/pleasant_lgr/plsnt_lgr_inset.sfr\n"
     ]
    }
   ],
   "source": [
    "m.write_input()"
   ]
  },
  {
   "cell_type": "markdown",
   "metadata": {},
   "source": [
    "### Run the model\n",
    "\n",
    "**Note:** Running the model through Flopy (as below) requires specification of the MODFLOW executable. In Flopy, the executable is specified via the ``exe_name`` argument to the simulation constructor for MODFLOW 6, or model constructor for previous MODFLOW versions. Similarly, in Modflow-setup, the ``exe_name`` is specified in the ``simulation:`` or ``model:`` block of the [configuration file](https://doi-usgs.github.io/modflow-setup/latest/config-file-gallery.html#pleasant-lake-test-case). This example assumes that a MODFLOW 6 executable with the name \"mf6\" either resides in the model workspace, or is included in the system path."
   ]
  },
  {
   "cell_type": "code",
   "execution_count": 16,
   "metadata": {
    "execution": {
     "iopub.execute_input": "2025-03-18T16:23:40.923116Z",
     "iopub.status.busy": "2025-03-18T16:23:40.922753Z",
     "iopub.status.idle": "2025-03-18T16:23:44.765529Z",
     "shell.execute_reply": "2025-03-18T16:23:44.765108Z"
    }
   },
   "outputs": [
    {
     "name": "stdout",
     "output_type": "stream",
     "text": [
      "FloPy is using the following executable to run the model: ../../../../../.local/bin/mf6\n",
      "                                   MODFLOW 6\n",
      "                U.S. GEOLOGICAL SURVEY MODULAR HYDROLOGIC MODEL\n",
      "                   VERSION 6.3.0 release candidate 03/08/2022\n",
      "                               ***DEVELOP MODE***\n",
      "\n",
      "   MODFLOW 6 compiled Mar 08 2022 20:13:10 with Intel(R) Fortran Intel(R) 64\n",
      "   Compiler Classic for applications running on Intel(R) 64, Version 2021.5.0\n",
      "                             Build 20211109_000000\n",
      "\n",
      "This software is preliminary or provisional and is subject to \n",
      "revision. It is being provided to meet the need for timely best \n",
      "science. The software has not received final approval by the U.S. \n",
      "Geological Survey (USGS). No warranty, expressed or implied, is made \n",
      "by the USGS or the U.S. Government as to the functionality of the \n",
      "software and related material nor shall the fact of release \n",
      "constitute any such warranty. The software is provided on the \n",
      "condition that neither the USGS nor the U.S. Government shall be held \n",
      "liable for any damages resulting from the authorized or unauthorized \n",
      "use of the software.\n",
      "\n",
      " \n",
      " Run start date and time (yyyy/mm/dd hh:mm:ss): 2025/03/18 16:23:40\n",
      " \n",
      " Writing simulation list file: mfsim.lst\n",
      " Using Simulation name file: mfsim.nam\n",
      " \n",
      "    Solving:  Stress period:     1    Time step:     1\n"
     ]
    },
    {
     "name": "stdout",
     "output_type": "stream",
     "text": [
      "    Solving:  Stress period:     2    Time step:     1\n",
      "    Solving:  Stress period:     3    Time step:     1\n"
     ]
    },
    {
     "name": "stdout",
     "output_type": "stream",
     "text": [
      "    Solving:  Stress period:     4    Time step:     1\n",
      "    Solving:  Stress period:     5    Time step:     1\n"
     ]
    },
    {
     "name": "stdout",
     "output_type": "stream",
     "text": [
      "    Solving:  Stress period:     6    Time step:     1\n"
     ]
    },
    {
     "name": "stdout",
     "output_type": "stream",
     "text": [
      "    Solving:  Stress period:     7    Time step:     1\n"
     ]
    },
    {
     "name": "stdout",
     "output_type": "stream",
     "text": [
      "    Solving:  Stress period:     8    Time step:     1\n"
     ]
    },
    {
     "name": "stdout",
     "output_type": "stream",
     "text": [
      "    Solving:  Stress period:     9    Time step:     1\n"
     ]
    },
    {
     "name": "stdout",
     "output_type": "stream",
     "text": [
      "    Solving:  Stress period:    10    Time step:     1\n",
      "    Solving:  Stress period:    11    Time step:     1\n"
     ]
    },
    {
     "name": "stdout",
     "output_type": "stream",
     "text": [
      "    Solving:  Stress period:    12    Time step:     1\n",
      "    Solving:  Stress period:    13    Time step:     1\n"
     ]
    },
    {
     "name": "stdout",
     "output_type": "stream",
     "text": [
      " \n",
      " Run end date and time (yyyy/mm/dd hh:mm:ss): 2025/03/18 16:23:44\n",
      " Elapsed run time:  3.833 Seconds\n",
      " \n",
      " Normal termination of simulation.\n"
     ]
    },
    {
     "data": {
      "text/plain": [
       "(True, [])"
      ]
     },
     "execution_count": 16,
     "metadata": {},
     "output_type": "execute_result"
    }
   ],
   "source": [
    "m.simulation.run_simulation()"
   ]
  },
  {
   "cell_type": "markdown",
   "metadata": {},
   "source": [
    "### Plot the head results"
   ]
  },
  {
   "cell_type": "code",
   "execution_count": 17,
   "metadata": {
    "execution": {
     "iopub.execute_input": "2025-03-18T16:23:44.767227Z",
     "iopub.status.busy": "2025-03-18T16:23:44.767038Z",
     "iopub.status.idle": "2025-03-18T16:23:44.780344Z",
     "shell.execute_reply": "2025-03-18T16:23:44.779961Z"
    }
   },
   "outputs": [],
   "source": [
    "tmr_parent_headsobj = bf.HeadFile('../data/pleasant/pleasant.hds')\n",
    "lgr_parent_headsobj = bf.HeadFile('plsnt_lgr_parent.hds')\n",
    "lgr_inset_headsobj = bf.HeadFile('plsnt_lgr_inset.hds')\n",
    "\n",
    "# read the head results for the last stress period\n",
    "kper = 12\n",
    "lgr_parent_hds = lgr_parent_headsobj.get_data(kstpkper=(0, kper))\n",
    "lgr_inset_hds = lgr_inset_headsobj.get_data(kstpkper=(0, kper))\n",
    "\n",
    "# Get the water table elevation from the 3D head results\n",
    "inset_wt = get_water_table(lgr_inset_hds, nodata=1e30)\n",
    "parent_wt = get_water_table(lgr_parent_hds, nodata=1e30)\n",
    "\n",
    "# put in the lake level (not included in head output)\n",
    "lake_results = pd.read_csv('lake1.obs.csv')\n",
    "stage = lake_results['STAGE'][kper]\n",
    "inset_wt[inset.lakarr[0] == 1] = stage"
   ]
  },
  {
   "cell_type": "markdown",
   "metadata": {},
   "source": [
    "#### First combine the parent and inset model head results\n",
    "(into a single grid at the inset model resolution; for a nicer looking plot)"
   ]
  },
  {
   "cell_type": "code",
   "execution_count": 18,
   "metadata": {
    "execution": {
     "iopub.execute_input": "2025-03-18T16:23:44.782022Z",
     "iopub.status.busy": "2025-03-18T16:23:44.781611Z",
     "iopub.status.idle": "2025-03-18T16:23:44.858018Z",
     "shell.execute_reply": "2025-03-18T16:23:44.857492Z"
    }
   },
   "outputs": [],
   "source": [
    "# make the single grid\n",
    "l, b, r, t = m.modelgrid.bounds\n",
    "xi = np.arange(l, r, 40)\n",
    "yi = np.arange(b, t, 40)[::-1]\n",
    "Xi, Yi = np.meshgrid(xi, yi)\n",
    "\n",
    "# make a single set of points\n",
    "# including both parent and inset cell centers\n",
    "# and water table values\n",
    "x = m.modelgrid.xcellcenters[~parent_wt.mask]\n",
    "y = m.modelgrid.ycellcenters[~parent_wt.mask]\n",
    "x = np.append(x, inset.modelgrid.xcellcenters[~inset_wt.mask])\n",
    "y = np.append(y, inset.modelgrid.ycellcenters[~inset_wt.mask])\n",
    "z = parent_wt[~parent_wt.mask].data\n",
    "z = np.append(z, inset_wt[~inset_wt.mask].data)\n",
    "\n",
    "# interpolate the results from the points\n",
    "# onto the single inset resolution grid\n",
    "results = griddata((x, y), z, (Xi, Yi))"
   ]
  },
  {
   "cell_type": "markdown",
   "metadata": {},
   "source": [
    "### Make the plot\n",
    "* include the parent and inset model grids\n",
    "* show the head contours for the combined parent/inset simulation\n",
    "* show SFR boundary condition cells in green\n",
    "* show the lakebed leakance zones"
   ]
  },
  {
   "cell_type": "code",
   "execution_count": 19,
   "metadata": {
    "execution": {
     "iopub.execute_input": "2025-03-18T16:23:44.860198Z",
     "iopub.status.busy": "2025-03-18T16:23:44.859858Z",
     "iopub.status.idle": "2025-03-18T16:23:45.963417Z",
     "shell.execute_reply": "2025-03-18T16:23:45.962915Z"
    }
   },
   "outputs": [
    {
     "data": {
      "image/png": "[encoded data removed]",
      "text/plain": [
       "<Figure size 650x650 with 1 Axes>"
      ]
     },
     "metadata": {},
     "output_type": "display_data"
    }
   ],
   "source": [
    "plt.rcParams['axes.labelsize'] = 8\n",
    "plt.rcParams['xtick.labelsize'] = 8\n",
    "plt.rcParams['ytick.labelsize'] = 8\n",
    "\n",
    "layer = 0\n",
    "fig, ax = plt.subplots(figsize=(6.5, 6.5))\n",
    "# create Flopy plot objects\n",
    "parent_mv = flopy.plot.PlotMapView(model=m, ax=ax, layer=layer)\n",
    "inset_mv = flopy.plot.PlotMapView(model=inset, ax=ax, layer=layer)\n",
    "\n",
    "# plot boundary condition cells from Modflow-setup array properties\n",
    "inset_bcs = np.ma.masked_array(inset._isbc2d, mask=inset._isbc2d==0)\n",
    "parent_bcs = np.ma.masked_array(m._isbc2d, mask=m._isbc2d==0)\n",
    "parent_mv.plot_array(parent_bcs, vmin=0, vmax=5)\n",
    "inset_mv.plot_array(inset_bcs, vmin=0, vmax=5)\n",
    "\n",
    "#bdlknc_values = inset.lak.connectiondata.array['bedleak']\n",
    "conn = inset.lak.connectiondata.array\n",
    "k, i, j = cellids_to_kij(conn['cellid'])\n",
    "bdlknc = np.zeros((inset.nlay, inset.nrow, inset.ncol))\n",
    "bdlknc[k, i, j] = conn['bedleak']\n",
    "bdlknc = np.max(bdlknc, axis=0)\n",
    "bdlknc = np.ma.masked_array(bdlknc, mask=bdlknc == 0)\n",
    "inset_mv.plot_array(bdlknc, cmap='Blues', zorder=200)\n",
    "\n",
    "# contour the combined inset/parent head results\n",
    "levels = np.arange(290, 315, 2)\n",
    "ctr = ax.contour(Xi, Yi, results, levels=levels, colors='b', zorder=10)\n",
    "labels = ax.clabel(ctr, inline=True, fontsize=8, inline_spacing=10)\n",
    "plt.setp(labels, path_effects=[\n",
    "    patheffects.withStroke(linewidth=3, foreground=\"w\")])\n",
    "\n",
    "# plot the grid cell edges\n",
    "lcp = parent_mv.plot_grid(lw=0.5, ax=ax)\n",
    "lci = inset_mv.plot_grid(lw=0.5)\n",
    "\n",
    "ax.set_ylim(b, t)\n",
    "ax.set_xlim(l, r)\n",
    "ax.set_aspect(1)\n",
    "ax.set_ylabel('Northing, in Wisconsin Transverse Mercator (meters)')\n",
    "ax.set_xlabel('Easting, in Wisconsin Transverse Mercator (meters)')\n",
    "\n",
    "ax.text(555600, 390450, 'Pleasant\\nLake', ha='left', va='top', color='DarkBlue', \n",
    "        fontsize=10, fontstyle='italic', family='Serif', zorder=202)\n",
    "txt = ax.text(556400, 391000, 'Chaffee Creek (SFR)', ha='left', va='top', color='DarkGreen', \n",
    "        fontsize=10, fontstyle='italic', family='Serif', zorder=20)\n",
    "txt.set_path_effects([patheffects.withStroke(linewidth=5, foreground='w')])\n",
    "txt = ax.text(556700, 388900, 'Tagatz\\nCreek (SFR)', ha='left', va='top', color='DarkGreen', \n",
    "        fontsize=10, fontstyle='italic', family='Serif', zorder=20)\n",
    "txt.set_path_effects([patheffects.withStroke(linewidth=5, foreground='w')])\n",
    "\n",
    "txt = ax.annotate(\"Littoral zone\",\n",
    "            xy=(555450, 390100), xycoords='data',\n",
    "            xytext=(555050,390100), textcoords='data',\n",
    "                  ha='right',\n",
    "            arrowprops=dict(arrowstyle=\"-|>\",\n",
    "                            connectionstyle=\"arc3\", fc='k'),\n",
    "            path_effects=[patheffects.withStroke(linewidth=4, foreground='w')],\n",
    "            zorder=203\n",
    "            )\n",
    "txt.arrow_patch.set_path_effects([\n",
    "    patheffects.Stroke(linewidth=2, foreground=\"w\"),\n",
    "    patheffects.Normal()])\n",
    "\n",
    "txt = ax.annotate(\"Profundal zone\",\n",
    "            xy=(555600, 390100), xycoords='data',\n",
    "            xytext=(555800,389500), textcoords='data',\n",
    "                  ha='right',\n",
    "            arrowprops=dict(arrowstyle=\"-|>\",\n",
    "                            connectionstyle=\"arc3\", fc='k'),\n",
    "            path_effects=[patheffects.withStroke(linewidth=4, foreground='w')],\n",
    "            zorder=203\n",
    "            )\n",
    "txt.arrow_patch.set_path_effects([\n",
    "    patheffects.Stroke(linewidth=2, foreground=\"w\"),\n",
    "    patheffects.Normal()])\n",
    "\n",
    "plt.tight_layout()\n",
    "plt.savefig('postproc/pdfs/figure_2.pdf')"
   ]
  },
  {
   "cell_type": "markdown",
   "metadata": {},
   "source": [
    "### Use [Modflow-export](https://github.com/aleaf/modflow-export) to export the modflow input to PDFs, rasters and shapefiles"
   ]
  },
  {
   "cell_type": "code",
   "execution_count": 20,
   "metadata": {
    "execution": {
     "iopub.execute_input": "2025-03-18T16:23:45.965387Z",
     "iopub.status.busy": "2025-03-18T16:23:45.964970Z",
     "iopub.status.idle": "2025-03-18T16:24:11.517919Z",
     "shell.execute_reply": "2025-03-18T16:24:11.517454Z"
    }
   },
   "outputs": [
    {
     "name": "stdout",
     "output_type": "stream",
     "text": [
      "creating postproc/plsnt_lgr_parent/pdfs...\n",
      "creating postproc/plsnt_lgr_parent/shps...\n",
      "creating postproc/plsnt_lgr_parent/rasters...\n",
      "\n",
      "dis package...\n",
      "wrote postproc/plsnt_lgr_parent/rasters/thickness_lay0.tif\n"
     ]
    },
    {
     "name": "stdout",
     "output_type": "stream",
     "text": [
      "wrote postproc/plsnt_lgr_parent/rasters/thickness_lay1.tif\n",
      "wrote postproc/plsnt_lgr_parent/rasters/thickness_lay2.tif\n",
      "wrote postproc/plsnt_lgr_parent/rasters/thickness_lay3.tif\n"
     ]
    },
    {
     "name": "stdout",
     "output_type": "stream",
     "text": [
      "wrote postproc/plsnt_lgr_parent/rasters/thickness_lay4.tif\n",
      "top:\n",
      "wrote postproc/plsnt_lgr_parent/rasters/top.tif\n"
     ]
    },
    {
     "name": "stdout",
     "output_type": "stream",
     "text": [
      "botm:\n",
      "wrote postproc/plsnt_lgr_parent/rasters/botm_lay0.tif\n",
      "wrote postproc/plsnt_lgr_parent/rasters/botm_lay1.tif\n"
     ]
    },
    {
     "name": "stdout",
     "output_type": "stream",
     "text": [
      "wrote postproc/plsnt_lgr_parent/rasters/botm_lay2.tif\n",
      "wrote postproc/plsnt_lgr_parent/rasters/botm_lay3.tif\n"
     ]
    },
    {
     "name": "stdout",
     "output_type": "stream",
     "text": [
      "wrote postproc/plsnt_lgr_parent/rasters/botm_lay4.tif\n",
      "idomain:\n",
      "wrote postproc/plsnt_lgr_parent/rasters/idomain_lay0.tif\n"
     ]
    },
    {
     "name": "stdout",
     "output_type": "stream",
     "text": [
      "wrote postproc/plsnt_lgr_parent/rasters/idomain_lay1.tif\n",
      "wrote postproc/plsnt_lgr_parent/rasters/idomain_lay2.tif\n"
     ]
    },
    {
     "name": "stdout",
     "output_type": "stream",
     "text": [
      "wrote postproc/plsnt_lgr_parent/rasters/idomain_lay3.tif\n",
      "wrote postproc/plsnt_lgr_parent/rasters/idomain_lay4.tif\n"
     ]
    },
    {
     "name": "stdout",
     "output_type": "stream",
     "text": [
      "\n",
      "ic package...\n",
      "strt:\n",
      "wrote postproc/plsnt_lgr_parent/rasters/strt_lay0.tif\n",
      "wrote postproc/plsnt_lgr_parent/rasters/strt_lay1.tif\n"
     ]
    },
    {
     "name": "stdout",
     "output_type": "stream",
     "text": [
      "wrote postproc/plsnt_lgr_parent/rasters/strt_lay2.tif\n",
      "wrote postproc/plsnt_lgr_parent/rasters/strt_lay3.tif\n"
     ]
    },
    {
     "name": "stdout",
     "output_type": "stream",
     "text": [
      "wrote postproc/plsnt_lgr_parent/rasters/strt_lay4.tif\n"
     ]
    },
    {
     "name": "stdout",
     "output_type": "stream",
     "text": [
      "\n",
      "npf package...\n",
      "icelltype:\n",
      "wrote postproc/plsnt_lgr_parent/rasters/icelltype_lay0.tif\n",
      "wrote postproc/plsnt_lgr_parent/rasters/icelltype_lay1.tif\n"
     ]
    },
    {
     "name": "stdout",
     "output_type": "stream",
     "text": [
      "wrote postproc/plsnt_lgr_parent/rasters/icelltype_lay2.tif\n",
      "wrote postproc/plsnt_lgr_parent/rasters/icelltype_lay3.tif\n"
     ]
    },
    {
     "name": "stdout",
     "output_type": "stream",
     "text": [
      "wrote postproc/plsnt_lgr_parent/rasters/icelltype_lay4.tif\n",
      "k:\n",
      "wrote postproc/plsnt_lgr_parent/rasters/k_lay0.tif\n"
     ]
    },
    {
     "name": "stdout",
     "output_type": "stream",
     "text": [
      "wrote postproc/plsnt_lgr_parent/rasters/k_lay1.tif\n",
      "wrote postproc/plsnt_lgr_parent/rasters/k_lay2.tif\n"
     ]
    },
    {
     "name": "stdout",
     "output_type": "stream",
     "text": [
      "wrote postproc/plsnt_lgr_parent/rasters/k_lay3.tif\n",
      "wrote postproc/plsnt_lgr_parent/rasters/k_lay4.tif\n"
     ]
    },
    {
     "name": "stdout",
     "output_type": "stream",
     "text": [
      "k33:\n",
      "wrote postproc/plsnt_lgr_parent/rasters/k33_lay0.tif\n",
      "wrote postproc/plsnt_lgr_parent/rasters/k33_lay1.tif\n"
     ]
    },
    {
     "name": "stdout",
     "output_type": "stream",
     "text": [
      "wrote postproc/plsnt_lgr_parent/rasters/k33_lay2.tif\n",
      "wrote postproc/plsnt_lgr_parent/rasters/k33_lay3.tif\n"
     ]
    },
    {
     "name": "stdout",
     "output_type": "stream",
     "text": [
      "wrote postproc/plsnt_lgr_parent/rasters/k33_lay4.tif\n",
      "\n",
      "sto package...\n",
      "iconvert:\n",
      "wrote postproc/plsnt_lgr_parent/rasters/iconvert_lay0.tif\n"
     ]
    },
    {
     "name": "stdout",
     "output_type": "stream",
     "text": [
      "wrote postproc/plsnt_lgr_parent/rasters/iconvert_lay1.tif\n",
      "wrote postproc/plsnt_lgr_parent/rasters/iconvert_lay2.tif\n"
     ]
    },
    {
     "name": "stdout",
     "output_type": "stream",
     "text": [
      "wrote postproc/plsnt_lgr_parent/rasters/iconvert_lay3.tif\n",
      "wrote postproc/plsnt_lgr_parent/rasters/iconvert_lay4.tif\n"
     ]
    },
    {
     "name": "stdout",
     "output_type": "stream",
     "text": [
      "ss:\n",
      "wrote postproc/plsnt_lgr_parent/rasters/ss_lay0.tif\n",
      "wrote postproc/plsnt_lgr_parent/rasters/ss_lay1.tif\n"
     ]
    },
    {
     "name": "stdout",
     "output_type": "stream",
     "text": [
      "wrote postproc/plsnt_lgr_parent/rasters/ss_lay2.tif\n"
     ]
    },
    {
     "name": "stdout",
     "output_type": "stream",
     "text": [
      "wrote postproc/plsnt_lgr_parent/rasters/ss_lay3.tif\n",
      "wrote postproc/plsnt_lgr_parent/rasters/ss_lay4.tif\n"
     ]
    },
    {
     "name": "stdout",
     "output_type": "stream",
     "text": [
      "sy:\n",
      "wrote postproc/plsnt_lgr_parent/rasters/sy_lay0.tif\n",
      "wrote postproc/plsnt_lgr_parent/rasters/sy_lay1.tif\n"
     ]
    },
    {
     "name": "stdout",
     "output_type": "stream",
     "text": [
      "wrote postproc/plsnt_lgr_parent/rasters/sy_lay2.tif\n",
      "wrote postproc/plsnt_lgr_parent/rasters/sy_lay3.tif\n"
     ]
    },
    {
     "name": "stdout",
     "output_type": "stream",
     "text": [
      "wrote postproc/plsnt_lgr_parent/rasters/sy_lay4.tif\n",
      "\n",
      "rcha_0 package...\n",
      "irch:\n",
      "wrote postproc/plsnt_lgr_parent/rasters/irch_per0.tif\n"
     ]
    },
    {
     "name": "stdout",
     "output_type": "stream",
     "text": [
      "recharge:\n",
      "wrote postproc/plsnt_lgr_parent/rasters/recharge_per0.tif\n"
     ]
    },
    {
     "name": "stdout",
     "output_type": "stream",
     "text": [
      "wrote postproc/plsnt_lgr_parent/rasters/recharge_per1.tif\n",
      "wrote postproc/plsnt_lgr_parent/rasters/recharge_per2.tif\n"
     ]
    },
    {
     "name": "stdout",
     "output_type": "stream",
     "text": [
      "wrote postproc/plsnt_lgr_parent/rasters/recharge_per3.tif\n",
      "wrote postproc/plsnt_lgr_parent/rasters/recharge_per4.tif\n"
     ]
    },
    {
     "name": "stdout",
     "output_type": "stream",
     "text": [
      "wrote postproc/plsnt_lgr_parent/rasters/recharge_per5.tif\n",
      "wrote postproc/plsnt_lgr_parent/rasters/recharge_per6.tif\n"
     ]
    },
    {
     "name": "stdout",
     "output_type": "stream",
     "text": [
      "wrote postproc/plsnt_lgr_parent/rasters/recharge_per7.tif\n",
      "wrote postproc/plsnt_lgr_parent/rasters/recharge_per8.tif\n"
     ]
    },
    {
     "name": "stdout",
     "output_type": "stream",
     "text": [
      "wrote postproc/plsnt_lgr_parent/rasters/recharge_per9.tif\n",
      "wrote postproc/plsnt_lgr_parent/rasters/recharge_per10.tif\n"
     ]
    },
    {
     "name": "stdout",
     "output_type": "stream",
     "text": [
      "wrote postproc/plsnt_lgr_parent/rasters/recharge_per11.tif\n",
      "wrote postproc/plsnt_lgr_parent/rasters/recharge_per12.tif\n"
     ]
    },
    {
     "name": "stdout",
     "output_type": "stream",
     "text": [
      "\n",
      "chd_0 package...\n"
     ]
    },
    {
     "name": "stdout",
     "output_type": "stream",
     "text": [
      "wrote postproc/plsnt_lgr_parent/shps/chd0_stress_period_data.shp\n"
     ]
    },
    {
     "name": "stdout",
     "output_type": "stream",
     "text": [
      "head:\n"
     ]
    },
    {
     "name": "stdout",
     "output_type": "stream",
     "text": [
      "boundname:\n",
      "Warning, variable: boundname\n",
      "Export of non-period data from transientlists not implemented!\n",
      "\n",
      "obs_0 package...\n",
      "skipped, not implemented yet\n",
      "\n",
      "sfr_0 package...\n",
      "wrote postproc/plsnt_lgr_parent/shps/plsnt_lgr_parent.sfr.shp\n",
      "\n",
      "wel_0 package...\n"
     ]
    },
    {
     "name": "stdout",
     "output_type": "stream",
     "text": [
      "wrote postproc/plsnt_lgr_parent/shps/wel0_stress_period_data.shp\n",
      "q:\n"
     ]
    },
    {
     "name": "stdout",
     "output_type": "stream",
     "text": [
      "boundname:\n",
      "Warning, variable: boundname\n",
      "Export of non-period data from transientlists not implemented!\n",
      "\n",
      "obs_1 package...\n",
      "skipped, not implemented yet\n",
      "\n",
      "obs_2 package...\n",
      "wrote postproc/plsnt_lgr_parent/shps/obs2_stress_period_data.shp\n",
      "creating postproc/plsnt_lgr_inset/pdfs...\n",
      "creating postproc/plsnt_lgr_inset/shps...\n",
      "creating postproc/plsnt_lgr_inset/rasters...\n",
      "\n",
      "dis package...\n",
      "wrote postproc/plsnt_lgr_inset/rasters/thickness_lay0.tif\n",
      "wrote postproc/plsnt_lgr_inset/rasters/thickness_lay1.tif\n"
     ]
    },
    {
     "name": "stdout",
     "output_type": "stream",
     "text": [
      "wrote postproc/plsnt_lgr_inset/rasters/thickness_lay2.tif\n",
      "wrote postproc/plsnt_lgr_inset/rasters/thickness_lay3.tif\n"
     ]
    },
    {
     "name": "stdout",
     "output_type": "stream",
     "text": [
      "wrote postproc/plsnt_lgr_inset/rasters/thickness_lay4.tif\n",
      "top:\n",
      "wrote postproc/plsnt_lgr_inset/rasters/top.tif\n"
     ]
    },
    {
     "name": "stdout",
     "output_type": "stream",
     "text": [
      "botm:\n",
      "wrote postproc/plsnt_lgr_inset/rasters/botm_lay0.tif\n",
      "wrote postproc/plsnt_lgr_inset/rasters/botm_lay1.tif\n"
     ]
    },
    {
     "name": "stdout",
     "output_type": "stream",
     "text": [
      "wrote postproc/plsnt_lgr_inset/rasters/botm_lay2.tif\n",
      "wrote postproc/plsnt_lgr_inset/rasters/botm_lay3.tif\n"
     ]
    },
    {
     "name": "stdout",
     "output_type": "stream",
     "text": [
      "wrote postproc/plsnt_lgr_inset/rasters/botm_lay4.tif\n",
      "idomain:\n",
      "wrote postproc/plsnt_lgr_inset/rasters/idomain_lay0.tif\n"
     ]
    },
    {
     "name": "stdout",
     "output_type": "stream",
     "text": [
      "wrote postproc/plsnt_lgr_inset/rasters/idomain_lay1.tif\n",
      "wrote postproc/plsnt_lgr_inset/rasters/idomain_lay2.tif\n"
     ]
    },
    {
     "name": "stdout",
     "output_type": "stream",
     "text": [
      "wrote postproc/plsnt_lgr_inset/rasters/idomain_lay3.tif\n",
      "wrote postproc/plsnt_lgr_inset/rasters/idomain_lay4.tif\n"
     ]
    },
    {
     "name": "stdout",
     "output_type": "stream",
     "text": [
      "\n",
      "ic package...\n",
      "strt:\n",
      "wrote postproc/plsnt_lgr_inset/rasters/strt_lay0.tif\n",
      "wrote postproc/plsnt_lgr_inset/rasters/strt_lay1.tif\n"
     ]
    },
    {
     "name": "stdout",
     "output_type": "stream",
     "text": [
      "wrote postproc/plsnt_lgr_inset/rasters/strt_lay2.tif\n",
      "wrote postproc/plsnt_lgr_inset/rasters/strt_lay3.tif\n"
     ]
    },
    {
     "name": "stdout",
     "output_type": "stream",
     "text": [
      "wrote postproc/plsnt_lgr_inset/rasters/strt_lay4.tif\n",
      "\n",
      "npf package...\n",
      "icelltype:\n",
      "wrote postproc/plsnt_lgr_inset/rasters/icelltype_lay0.tif\n"
     ]
    },
    {
     "name": "stdout",
     "output_type": "stream",
     "text": [
      "wrote postproc/plsnt_lgr_inset/rasters/icelltype_lay1.tif\n",
      "wrote postproc/plsnt_lgr_inset/rasters/icelltype_lay2.tif\n"
     ]
    },
    {
     "name": "stdout",
     "output_type": "stream",
     "text": [
      "wrote postproc/plsnt_lgr_inset/rasters/icelltype_lay3.tif\n",
      "wrote postproc/plsnt_lgr_inset/rasters/icelltype_lay4.tif\n"
     ]
    },
    {
     "name": "stdout",
     "output_type": "stream",
     "text": [
      "k:\n",
      "wrote postproc/plsnt_lgr_inset/rasters/k_lay0.tif\n"
     ]
    },
    {
     "name": "stdout",
     "output_type": "stream",
     "text": [
      "wrote postproc/plsnt_lgr_inset/rasters/k_lay1.tif\n",
      "wrote postproc/plsnt_lgr_inset/rasters/k_lay2.tif\n"
     ]
    },
    {
     "name": "stdout",
     "output_type": "stream",
     "text": [
      "wrote postproc/plsnt_lgr_inset/rasters/k_lay3.tif\n",
      "wrote postproc/plsnt_lgr_inset/rasters/k_lay4.tif\n"
     ]
    },
    {
     "name": "stdout",
     "output_type": "stream",
     "text": [
      "k33:\n",
      "wrote postproc/plsnt_lgr_inset/rasters/k33_lay0.tif\n",
      "wrote postproc/plsnt_lgr_inset/rasters/k33_lay1.tif\n"
     ]
    },
    {
     "name": "stdout",
     "output_type": "stream",
     "text": [
      "wrote postproc/plsnt_lgr_inset/rasters/k33_lay2.tif\n",
      "wrote postproc/plsnt_lgr_inset/rasters/k33_lay3.tif\n"
     ]
    },
    {
     "name": "stdout",
     "output_type": "stream",
     "text": [
      "wrote postproc/plsnt_lgr_inset/rasters/k33_lay4.tif\n",
      "\n",
      "sto package...\n",
      "iconvert:\n",
      "wrote postproc/plsnt_lgr_inset/rasters/iconvert_lay0.tif\n"
     ]
    },
    {
     "name": "stdout",
     "output_type": "stream",
     "text": [
      "wrote postproc/plsnt_lgr_inset/rasters/iconvert_lay1.tif\n",
      "wrote postproc/plsnt_lgr_inset/rasters/iconvert_lay2.tif\n"
     ]
    },
    {
     "name": "stdout",
     "output_type": "stream",
     "text": [
      "wrote postproc/plsnt_lgr_inset/rasters/iconvert_lay3.tif\n",
      "wrote postproc/plsnt_lgr_inset/rasters/iconvert_lay4.tif\n"
     ]
    },
    {
     "name": "stdout",
     "output_type": "stream",
     "text": [
      "ss:\n",
      "wrote postproc/plsnt_lgr_inset/rasters/ss_lay0.tif\n",
      "wrote postproc/plsnt_lgr_inset/rasters/ss_lay1.tif\n"
     ]
    },
    {
     "name": "stdout",
     "output_type": "stream",
     "text": [
      "wrote postproc/plsnt_lgr_inset/rasters/ss_lay2.tif\n",
      "wrote postproc/plsnt_lgr_inset/rasters/ss_lay3.tif\n"
     ]
    },
    {
     "name": "stdout",
     "output_type": "stream",
     "text": [
      "wrote postproc/plsnt_lgr_inset/rasters/ss_lay4.tif\n",
      "sy:\n",
      "wrote postproc/plsnt_lgr_inset/rasters/sy_lay0.tif\n"
     ]
    },
    {
     "name": "stdout",
     "output_type": "stream",
     "text": [
      "wrote postproc/plsnt_lgr_inset/rasters/sy_lay1.tif\n",
      "wrote postproc/plsnt_lgr_inset/rasters/sy_lay2.tif\n"
     ]
    },
    {
     "name": "stdout",
     "output_type": "stream",
     "text": [
      "wrote postproc/plsnt_lgr_inset/rasters/sy_lay3.tif\n",
      "wrote postproc/plsnt_lgr_inset/rasters/sy_lay4.tif\n"
     ]
    },
    {
     "name": "stdout",
     "output_type": "stream",
     "text": [
      "\n",
      "rcha_0 package...\n",
      "irch:\n",
      "wrote postproc/plsnt_lgr_inset/rasters/irch_per0.tif\n"
     ]
    },
    {
     "name": "stdout",
     "output_type": "stream",
     "text": [
      "recharge:\n",
      "wrote postproc/plsnt_lgr_inset/rasters/recharge_per0.tif\n"
     ]
    },
    {
     "name": "stdout",
     "output_type": "stream",
     "text": [
      "\n",
      "sfr_0 package...\n",
      "wrote postproc/plsnt_lgr_inset/shps/plsnt_lgr_inset.sfr.shp\n",
      "\n",
      "lak_0 package...\n",
      "skipping lak0.perioddata; efficient export not implemented\n",
      "\n",
      "obs_0 package...\n",
      "skipped, not implemented yet\n",
      "\n",
      "obs_1 package...\n",
      "wrote postproc/plsnt_lgr_inset/shps/obs1_stress_period_data.shp\n"
     ]
    }
   ],
   "source": [
    "for model in m, inset:\n",
    "    mfexport.export(model, model.modelgrid, output_path=f'postproc/{model.name}/')"
   ]
  },
  {
   "cell_type": "markdown",
   "metadata": {},
   "source": [
    "#### Modflow-export can also create a summary table of the model inputs"
   ]
  },
  {
   "cell_type": "code",
   "execution_count": 21,
   "metadata": {
    "execution": {
     "iopub.execute_input": "2025-03-18T16:24:11.519817Z",
     "iopub.status.busy": "2025-03-18T16:24:11.519402Z",
     "iopub.status.idle": "2025-03-18T16:24:13.066139Z",
     "shell.execute_reply": "2025-03-18T16:24:13.065697Z"
    }
   },
   "outputs": [
    {
     "name": "stdout",
     "output_type": "stream",
     "text": [
      "summarizing plsnt_lgr_parent input...\n"
     ]
    },
    {
     "name": "stdout",
     "output_type": "stream",
     "text": [
      "skipped, not implemented yet\n"
     ]
    },
    {
     "name": "stdout",
     "output_type": "stream",
     "text": [
      "skipped, not implemented yet\n",
      "summarizing plsnt_lgr_inset input...\n"
     ]
    },
    {
     "name": "stdout",
     "output_type": "stream",
     "text": [
      "skipped, not implemented yet\n"
     ]
    }
   ],
   "source": [
    "for model in m, inset:\n",
    "    mfexport.summarize(model, output_path=f'postproc/{model.name}/')"
   ]
  }
 ],
 "metadata": {
  "kernelspec": {
   "display_name": "Python 3 (ipykernel)",
   "language": "python",
   "name": "python3"
  },
  "language_info": {
   "codemirror_mode": {
    "name": "ipython",
    "version": 3
   },
   "file_extension": ".py",
   "mimetype": "text/x-python",
   "name": "python",
   "nbconvert_exporter": "python",
   "pygments_lexer": "ipython3",
   "version": "3.12.9"
  }
 },
 "nbformat": 4,
 "nbformat_minor": 4
}
