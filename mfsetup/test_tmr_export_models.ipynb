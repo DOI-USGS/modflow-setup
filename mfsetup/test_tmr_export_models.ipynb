{
 "cells": [
  {
   "cell_type": "code",
   "execution_count": null,
   "id": "6668e331-b16f-42e1-8c6c-b50b58fc731f",
   "metadata": {},
   "outputs": [],
   "source": [
    "import os\n",
    "import numpy as np\n",
    "import pandas as pd\n",
    "import flopy \n",
    "import mfexport\n",
    "import matplotlib.pyplot as plt\n",
    "from mfexport.listfile import plot_list_budget, get_listfile_data, plot_budget_summary, plot_budget_term\n",
    "from matplotlib import colors\n",
    "\n",
    "import warnings\n",
    "warnings.filterwarnings(\"ignore\", category=DeprecationWarning) "
   ]
  },
  {
   "cell_type": "code",
   "execution_count": null,
   "id": "54ce636e-20dd-4e9f-a1d3-31098c45a1a3",
   "metadata": {},
   "outputs": [],
   "source": [
    "simname = 'mfsim.nam'\n",
    "model_ws_inset = 'tests/tmp/perimeter_bc_demo/inset/'\n",
    "\n",
    "sim_inset = flopy.mf6.MFSimulation.load(simname, 'mf6', sim_ws=model_ws_inset)\n",
    "m_inset = sim_inset.get_model()"
   ]
  },
  {
   "cell_type": "code",
   "execution_count": null,
   "id": "b57222d3-a971-44bd-b5ea-df47911e77b5",
   "metadata": {},
   "outputs": [],
   "source": [
    "inset_delc = m_inset.dis.delc.array\n",
    "inset_delr = m_inset.dis.delr.array\n",
    "inset_top = m_inset.dis.top.array\n",
    "inset_botm = m_inset.dis.botm.array"
   ]
  },
  {
   "cell_type": "code",
   "execution_count": null,
   "id": "f05a7880-dbb6-47ae-877b-bea009dc3f82",
   "metadata": {},
   "outputs": [],
   "source": [
    "inset_grid = mfexport.MFexportGrid(delc=inset_delc,\n",
    "                             delr=inset_delr,\n",
    "                             top=inset_top,\n",
    "                             botm=inset_botm,\n",
    "                             xoff=1000, \n",
    "                             yoff=1000)"
   ]
  },
  {
   "cell_type": "code",
   "execution_count": null,
   "id": "74a38977-cecd-48ef-a6f2-326366636ede",
   "metadata": {},
   "outputs": [],
   "source": [
    "mfexport.export(m_inset, inset_grid, output_path='postproc_inset')"
   ]
  },
  {
   "cell_type": "code",
   "execution_count": null,
   "id": "aa3e283c-0cd0-44c6-bcff-3d1737fa588d",
   "metadata": {},
   "outputs": [],
   "source": [
    "headsfile = 'tests/tmp/perimeter_bc_demo/inset/tmr_inset.hds'\n",
    "mfexport.export_heads(headsfile, inset_grid, hdry=m_inset.hnoflo, hnflo=m_inset.hnoflo,\n",
    "                      kstpkper=(0,0), land_surface_elevations = inset_top,\n",
    "                      interval=0.05,\n",
    "                      output_path='postproc_inset')"
   ]
  },
  {
   "cell_type": "code",
   "execution_count": null,
   "id": "21ac3c06-2d01-42cb-afb0-8e699559a7be",
   "metadata": {},
   "outputs": [],
   "source": [
    "inset_grid.write_shapefile('postproc_inset/shp/inset_grid.shp')"
   ]
  },
  {
   "cell_type": "code",
   "execution_count": null,
   "id": "b906fe40-d4af-4363-a07e-9b2cb8171e73",
   "metadata": {},
   "outputs": [],
   "source": [
    "model_ws_parent = 'tests/tmp/perimeter_bc_demo/parent/'\n",
    "\n",
    "sim_parent = flopy.mf6.MFSimulation.load(simname, 'mf6', sim_ws=model_ws_parent)\n",
    "m_parent = sim_parent.get_model()"
   ]
  },
  {
   "cell_type": "code",
   "execution_count": null,
   "id": "de304b87-4373-4a67-b0a4-1288a8789b64",
   "metadata": {},
   "outputs": [],
   "source": [
    "parent_delc = m_parent.dis.delc.array\n",
    "parent_delr = m_parent.dis.delr.array\n",
    "parent_top = m_parent.dis.top.array\n",
    "parent_botm = m_parent.dis.botm.array"
   ]
  },
  {
   "cell_type": "code",
   "execution_count": null,
   "id": "07dd3787-3f9c-4ae3-9c0c-10905f05b2ed",
   "metadata": {},
   "outputs": [],
   "source": [
    "parent_grid = mfexport.MFexportGrid(delc=parent_delc,\n",
    "                             delr=parent_delr,\n",
    "                             top=parent_top,\n",
    "                             botm=parent_botm)"
   ]
  },
  {
   "cell_type": "code",
   "execution_count": null,
   "id": "ed4a2569-9bf5-4e4c-b200-441ef9587ed4",
   "metadata": {},
   "outputs": [],
   "source": [
    "mfexport.export(m_parent, parent_grid, output_path='postproc_parent')"
   ]
  },
  {
   "cell_type": "code",
   "execution_count": null,
   "id": "8484f1cf-73b9-46c3-acc9-7eafee1332d1",
   "metadata": {},
   "outputs": [],
   "source": [
    "headsfile = 'tests/tmp/perimeter_bc_demo/parent/tmr_parent.hds'\n",
    "mfexport.export_heads(headsfile, parent_grid, hdry=m_parent.hnoflo, hnflo=m_parent.hnoflo,\n",
    "                      kstpkper=(0,0), land_surface_elevations = parent_top,\n",
    "                      interval=0.05,\n",
    "                      output_path='postproc_parent')"
   ]
  },
  {
   "cell_type": "code",
   "execution_count": null,
   "id": "3c0703a3-4bf9-4cbe-abf3-d8c4fb787e04",
   "metadata": {},
   "outputs": [],
   "source": [
    "parent_grid.write_shapefile('postproc_parent/shp/parent_grid.shp')"
   ]
  },
  {
   "cell_type": "code",
   "execution_count": null,
   "id": "476ad7fa-dbfc-4c92-acee-2066f0d65f6d",
   "metadata": {},
   "outputs": [],
   "source": []
  },
  {
   "cell_type": "code",
   "execution_count": null,
   "id": "32267e70-00bd-46f6-a1e3-483bc1f3fc38",
   "metadata": {},
   "outputs": [],
   "source": []
  }
 ],
 "metadata": {
  "kernelspec": {
   "display_name": "Python 3 (ipykernel)",
   "language": "python",
   "name": "python3"
  },
  "language_info": {
   "codemirror_mode": {
    "name": "ipython",
    "version": 3
   },
   "file_extension": ".py",
   "mimetype": "text/x-python",
   "name": "python",
   "nbconvert_exporter": "python",
   "pygments_lexer": "ipython3",
   "version": "3.9.6"
  }
 },
 "nbformat": 4,
 "nbformat_minor": 5
}
