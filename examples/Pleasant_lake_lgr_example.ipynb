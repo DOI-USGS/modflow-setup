{
 "cells": [
  {
   "cell_type": "code",
   "execution_count": 1,
   "metadata": {},
   "outputs": [
    {
     "name": "stdout",
     "output_type": "stream",
     "text": [
      "flopy is installed in /Users/aleaf/Documents/GitHub/flopy/flopy\n"
     ]
    }
   ],
   "source": [
    "import os\n",
    "import numpy as np\n",
    "import pandas as pd\n",
    "import matplotlib.pyplot as plt\n",
    "import flopy\n",
    "import flopy.utils.binaryfile as bf\n",
    "from mfsetup import MF6model\n",
    "from mfsetup.discretization import cellids_to_kij\n",
    "from gisutils import df2shp\n",
    "import mfexport"
   ]
  },
  {
   "cell_type": "code",
   "execution_count": null,
   "metadata": {},
   "outputs": [
    {
     "name": "stdout",
     "output_type": "stream",
     "text": [
      "loading configuration file pleasant_lgr_parent.yml...\n",
      "\n",
      "Setting up plsnt_lgr_parent model from data in None\n",
      "\n",
      "\n",
      "arguments to MFSimulation:\n",
      "sim_name: pleasant_lgr\n",
      "version: mf6\n",
      "exe_name: mf6\n",
      "sim_ws: /Users/aleaf/Documents/GitHub/modflow-setup/examples/pleasant_lgr\n",
      "\n",
      "other arguments:\n",
      "options: {}\n",
      "\n",
      "\n",
      "\n",
      "arguments to ModflowGwf:\n",
      "modelname: plsnt_lgr_parent\n",
      "version: mf6\n",
      "simulation: sim_name = pleasant_lgr\n",
      "sim_path = /Users/aleaf/Documents/GitHub/modflow-setup/examples/pleasant_lgr\n",
      "exe_name = mf6\n",
      "\n",
      "###################\n",
      "Package mfsim.nam\n",
      "###################\n",
      "\n",
      "package_name = mfsim.nam\n",
      "filename = mfsim.nam\n",
      "package_type = nam\n",
      "model_or_simulation_package = simulation\n",
      "simulation_name = pleasant_lgr\n",
      "\n",
      "\n",
      "\n",
      "list: /Users/aleaf/Documents/GitHub/modflow-setup/examples/pleasant_lgr/plsnt_lgr_parent.list\n",
      "print_input: True\n",
      "print_flows: False\n",
      "save_flows: True\n",
      "newtonoptions: ['under_relaxation']\n",
      "\n",
      "other arguments:\n",
      "list_filename_fmt: {}.list\n",
      "options: {'newton': True,\n",
      " 'newton_under_relaxation': True,\n",
      " 'newtonoptions': ['under_relaxation'],\n",
      " 'print_flows': False,\n",
      " 'print_input': True,\n",
      " 'save_flows': True}\n",
      "packages: ['dis', 'ic', 'npf', 'oc', 'sto', 'rch', 'sfr', 'lak', 'obs', 'wel', 'ims']\n",
      "hiKlakes_value: 1.e4\n",
      "default_lake_depth: 2\n",
      "external_path: external/\n",
      "relative_external_filepaths: True\n",
      "perimeter_boundary_type: specified head\n",
      "verbose: False\n",
      "newton: True\n",
      "newton_under_relaxation: True\n",
      "\n",
      "\n",
      "\n",
      "arguments to Modflow.load:\n",
      "model_ws: /Users/aleaf/Documents/GitHub/modflow-setup/examples/data/pleasant\n",
      "version: mfnwt\n",
      "f: pleasant.nam\n",
      "load_only: ['oc', 'upw', 'dis', 'rch', 'sfr', 'bas6', 'wel']\n",
      "\n",
      "\n",
      "loading parent model /Users/aleaf/Documents/GitHub/modflow-setup/examples/data/pleasant/pleasant.nam...\n"
     ]
    }
   ],
   "source": [
    "m = MF6model.setup_from_yaml('pleasant_lgr_parent.yml')"
   ]
  },
  {
   "cell_type": "code",
   "execution_count": null,
   "metadata": {},
   "outputs": [],
   "source": [
    "m"
   ]
  },
  {
   "cell_type": "code",
   "execution_count": null,
   "metadata": {},
   "outputs": [],
   "source": [
    "m.cfg.keys()"
   ]
  },
  {
   "cell_type": "code",
   "execution_count": null,
   "metadata": {},
   "outputs": [],
   "source": [
    "m.cfg['dis']"
   ]
  },
  {
   "cell_type": "code",
   "execution_count": null,
   "metadata": {},
   "outputs": [],
   "source": [
    "m.inset"
   ]
  },
  {
   "cell_type": "code",
   "execution_count": null,
   "metadata": {},
   "outputs": [],
   "source": [
    "inset = m.inset['plsnt_lgr_inset']\n",
    "\n",
    "l, r, b, t = m.modelgrid.extent\n",
    "layer = 0\n",
    "\n",
    "fig, ax = plt.subplots(figsize=(10, 10))\n",
    "parent_mv = flopy.plot.PlotMapView(model=m, ax=ax, layer=layer)\n",
    "inset_mv = flopy.plot.PlotMapView(model=inset, ax=ax, layer=layer)\n",
    "\n",
    "vconn = inset.lak.connectiondata.array[inset.lak.connectiondata.array['claktype'] == 'vertical']\n",
    "k, i, j = cellids_to_kij(vconn['cellid'])\n",
    "lakeconnections = np.zeros((inset.nrow, inset.ncol))\n",
    "lakeconnections[i, j] = np.array(k)\n",
    "lakeconnections = np.ma.masked_array(lakeconnections, mask=lakeconnections == 0)\n",
    "qmi = inset_mv.plot_array(lakeconnections)\n",
    "\n",
    "#inset_mv.plot_bc('LAK', color='navy')\n",
    "#parent_mv.plot_bc('WEL_0', color='red')\n",
    "\n",
    "lcp = parent_mv.plot_grid(lw=0.5, ax=ax)\n",
    "lci = inset_mv.plot_grid(lw=0.5)\n",
    "ax.set_ylim(b, t)\n",
    "ax.set_xlim(l, r)\n",
    "ax.set_aspect(1)\n",
    "plt.colorbar(qmi)"
   ]
  },
  {
   "cell_type": "code",
   "execution_count": null,
   "metadata": {},
   "outputs": [],
   "source": [
    "m.write_input()"
   ]
  },
  {
   "cell_type": "code",
   "execution_count": null,
   "metadata": {},
   "outputs": [],
   "source": [
    "# write the SFR package again using SFRmaker,\n",
    "# because flopy doesn't check the packagedata against the idomain before writing\n",
    "for model in m, m.inset['plsnt_lgr_inset']:\n",
    "    if hasattr(model, 'sfr'):\n",
    "        sfr_package_filename = os.path.join(model.model_ws, model.sfr.filename)\n",
    "        model.sfrdata.write_package(sfr_package_filename,\n",
    "                                    idomain=model.dis.idomain.array,\n",
    "                                    version='mf6',\n",
    "                                    options=['save_flows',\n",
    "                                             'BUDGET FILEOUT {}.sfr.cbc'.format(model.name),\n",
    "                                             'STAGE FILEOUT {}.sfr.stage.bin'.format(model.name),\n",
    "                                             'mover'\n",
    "                                               ]\n",
    "                                    )"
   ]
  },
  {
   "cell_type": "code",
   "execution_count": null,
   "metadata": {},
   "outputs": [],
   "source": [
    "m.simulation.run_simulation()"
   ]
  },
  {
   "cell_type": "code",
   "execution_count": null,
   "metadata": {},
   "outputs": [],
   "source": [
    "os.getcwd()"
   ]
  },
  {
   "cell_type": "code",
   "execution_count": null,
   "metadata": {},
   "outputs": [],
   "source": [
    "tmr_parent_headsobj = bf.HeadFile('../data/pleasant/pleasant.hds')\n",
    "lgr_parent_headsobj = bf.HeadFile('plsnt_lgr_parent.hds')\n",
    "lgr_inset_headsobj = bf.HeadFile('plsnt_lgr_inset.hds')\n",
    "\n",
    "tmr_parent_hds = tmr_parent_headsobj.get_data(kstpkper=(4, 12))\n",
    "lgr_parent_hds = lgr_parent_headsobj.get_data(kstpkper=(0, 12))\n",
    "lgr_inset_hds = lgr_inset_headsobj.get_data(kstpkper=(0, 12))\n",
    "\n",
    "lgr_parent_hds = np.ma.masked_array(lgr_parent_hds, mask=lgr_parent_hds == 1e30)\n",
    "lgr_inset_hds = np.ma.masked_array(lgr_inset_hds, mask=lgr_inset_hds == 1e30)"
   ]
  },
  {
   "cell_type": "code",
   "execution_count": null,
   "metadata": {},
   "outputs": [],
   "source": [
    "layer = 0\n",
    "\n",
    "fig, ax = plt.subplots(figsize=(10, 10))\n",
    "parent_mv = flopy.plot.PlotMapView(model=m, ax=ax, layer=layer)\n",
    "inset_mv = flopy.plot.PlotMapView(model=inset, ax=ax, layer=layer)\n",
    "\n",
    "pctr = parent_mv.contour_array(lgr_parent_hds, levels=np.arange(290, 315))\n",
    "ictr = inset_mv.contour_array(lgr_inset_hds, levels=np.arange(290, 315))\n",
    "#qmp = parent_mv.plot_array(lgr_parent_hds)\n",
    "#qmi = inset_mv.plot_array(lgr_inset_hds)\n",
    "\n",
    "lcp = parent_mv.plot_grid(lw=0.5, ax=ax)\n",
    "lci = inset_mv.plot_grid(lw=0.5)\n",
    "ax.set_ylim(b, t)\n",
    "ax.set_xlim(l, r)\n",
    "ax.set_aspect(1)\n",
    "#plt.colorbar(qmp)"
   ]
  },
  {
   "cell_type": "code",
   "execution_count": null,
   "metadata": {},
   "outputs": [],
   "source": [
    "for model in m, inset:\n",
    "    mfexport.export(model, model.modelgrid, output_path='postproc/{}/'.format(model.name))"
   ]
  },
  {
   "cell_type": "code",
   "execution_count": null,
   "metadata": {},
   "outputs": [],
   "source": [
    "for model in m, inset:\n",
    "    mfexport.summarize(model, output_path='postproc/{}/'.format(model.name))"
   ]
  },
  {
   "cell_type": "code",
   "execution_count": null,
   "metadata": {},
   "outputs": [],
   "source": [
    "outpath='postproc/{}/shps'.format(inset.name)\n",
    "if not os.path.isdir(outpath):\n",
    "    os.makedirs(outpath)\n",
    "connectiondata = pd.DataFrame(inset.lak.connectiondata.array)\n",
    "k, i, j = cellids_to_kij(connectiondata['cellid'])\n",
    "connectiondata['k'] = k\n",
    "connectiondata['i'] = i\n",
    "connectiondata['j'] = j\n",
    "#connectiondata.drop('cellid', axis=1, inplace=True)\n",
    "polygons = np.reshape(inset.modelgrid.polygons, (inset.modelgrid.nrow, inset.modelgrid.ncol))\n",
    "connectiondata['geometry'] = polygons[i, j]\n",
    "df2shp(connectiondata, os.path.join(outpath, 'lake_connections.shp'), epsg=3070)"
   ]
  },
  {
   "cell_type": "code",
   "execution_count": null,
   "metadata": {},
   "outputs": [],
   "source": []
  }
 ],
 "metadata": {
  "kernelspec": {
   "display_name": "Python3 (gis)",
   "language": "python",
   "name": "gis"
  },
  "language_info": {
   "codemirror_mode": {
    "name": "ipython",
    "version": 3
   },
   "file_extension": ".py",
   "mimetype": "text/x-python",
   "name": "python",
   "nbconvert_exporter": "python",
   "pygments_lexer": "ipython3",
   "version": "3.8.2"
  }
 },
 "nbformat": 4,
 "nbformat_minor": 4
}
